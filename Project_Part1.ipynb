{
 "cells": [
  {
   "cell_type": "markdown",
   "metadata": {},
   "source": [
    "# Car Accidents Severity in Seattle - Part1"
   ]
  },
  {
   "cell_type": "markdown",
   "metadata": {},
   "source": [
    "This notbook is for capstone project"
   ]
  },
  {
   "cell_type": "code",
   "execution_count": 1,
   "metadata": {},
   "outputs": [
    {
     "name": "stderr",
     "output_type": "stream",
     "text": [
      "/Users/nastarandashti/.pyenv/versions/3.7.3/lib/python3.7/site-packages/pandas/compat/__init__.py:97: UserWarning: Could not import the lzma module. Your installed Python is incomplete. Attempting to use lzma compression will result in a RuntimeError.\n",
      "  warnings.warn(msg)\n"
     ]
    },
    {
     "name": "stdout",
     "output_type": "stream",
     "text": [
      "imported\n"
     ]
    }
   ],
   "source": [
    "import pandas as pd\n",
    "import numpy as np\n",
    "from sklearn.model_selection import train_test_split\n",
    "from sklearn.neighbors import KNeighborsClassifier\n",
    "from sklearn.metrics import classification_report\n",
    "from sklearn.tree import DecisionTreeClassifier\n",
    "from sklearn import svm\n",
    "from sklearn.metrics import f1_score\n",
    "from sklearn.metrics import accuracy_score\n",
    "from sklearn import preprocessing\n",
    "from sklearn.linear_model import LogisticRegression\n",
    "print('imported')"
   ]
  },
  {
   "cell_type": "code",
   "execution_count": 2,
   "metadata": {},
   "outputs": [
    {
     "name": "stderr",
     "output_type": "stream",
     "text": [
      "/Users/nastarandashti/.pyenv/versions/3.7.3/lib/python3.7/site-packages/IPython/core/interactiveshell.py:3156: DtypeWarning: Columns (33) have mixed types.Specify dtype option on import or set low_memory=False.\n",
      "  interactivity=interactivity, compiler=compiler, result=result)\n"
     ]
    },
    {
     "data": {
      "text/html": [
       "<div>\n",
       "<style scoped>\n",
       "    .dataframe tbody tr th:only-of-type {\n",
       "        vertical-align: middle;\n",
       "    }\n",
       "\n",
       "    .dataframe tbody tr th {\n",
       "        vertical-align: top;\n",
       "    }\n",
       "\n",
       "    .dataframe thead th {\n",
       "        text-align: right;\n",
       "    }\n",
       "</style>\n",
       "<table border=\"1\" class=\"dataframe\">\n",
       "  <thead>\n",
       "    <tr style=\"text-align: right;\">\n",
       "      <th></th>\n",
       "      <th>SEVERITYCODE</th>\n",
       "      <th>X</th>\n",
       "      <th>Y</th>\n",
       "      <th>OBJECTID</th>\n",
       "      <th>INCKEY</th>\n",
       "      <th>COLDETKEY</th>\n",
       "      <th>REPORTNO</th>\n",
       "      <th>STATUS</th>\n",
       "      <th>ADDRTYPE</th>\n",
       "      <th>INTKEY</th>\n",
       "      <th>...</th>\n",
       "      <th>ROADCOND</th>\n",
       "      <th>LIGHTCOND</th>\n",
       "      <th>PEDROWNOTGRNT</th>\n",
       "      <th>SDOTCOLNUM</th>\n",
       "      <th>SPEEDING</th>\n",
       "      <th>ST_COLCODE</th>\n",
       "      <th>ST_COLDESC</th>\n",
       "      <th>SEGLANEKEY</th>\n",
       "      <th>CROSSWALKKEY</th>\n",
       "      <th>HITPARKEDCAR</th>\n",
       "    </tr>\n",
       "  </thead>\n",
       "  <tbody>\n",
       "    <tr>\n",
       "      <th>0</th>\n",
       "      <td>2</td>\n",
       "      <td>-122.323148</td>\n",
       "      <td>47.703140</td>\n",
       "      <td>1</td>\n",
       "      <td>1307</td>\n",
       "      <td>1307</td>\n",
       "      <td>3502005</td>\n",
       "      <td>Matched</td>\n",
       "      <td>Intersection</td>\n",
       "      <td>37475.0</td>\n",
       "      <td>...</td>\n",
       "      <td>Wet</td>\n",
       "      <td>Daylight</td>\n",
       "      <td>NaN</td>\n",
       "      <td>NaN</td>\n",
       "      <td>NaN</td>\n",
       "      <td>10</td>\n",
       "      <td>Entering at angle</td>\n",
       "      <td>0</td>\n",
       "      <td>0</td>\n",
       "      <td>N</td>\n",
       "    </tr>\n",
       "    <tr>\n",
       "      <th>1</th>\n",
       "      <td>1</td>\n",
       "      <td>-122.347294</td>\n",
       "      <td>47.647172</td>\n",
       "      <td>2</td>\n",
       "      <td>52200</td>\n",
       "      <td>52200</td>\n",
       "      <td>2607959</td>\n",
       "      <td>Matched</td>\n",
       "      <td>Block</td>\n",
       "      <td>NaN</td>\n",
       "      <td>...</td>\n",
       "      <td>Wet</td>\n",
       "      <td>Dark - Street Lights On</td>\n",
       "      <td>NaN</td>\n",
       "      <td>6354039.0</td>\n",
       "      <td>NaN</td>\n",
       "      <td>11</td>\n",
       "      <td>From same direction - both going straight - bo...</td>\n",
       "      <td>0</td>\n",
       "      <td>0</td>\n",
       "      <td>N</td>\n",
       "    </tr>\n",
       "    <tr>\n",
       "      <th>2</th>\n",
       "      <td>1</td>\n",
       "      <td>-122.334540</td>\n",
       "      <td>47.607871</td>\n",
       "      <td>3</td>\n",
       "      <td>26700</td>\n",
       "      <td>26700</td>\n",
       "      <td>1482393</td>\n",
       "      <td>Matched</td>\n",
       "      <td>Block</td>\n",
       "      <td>NaN</td>\n",
       "      <td>...</td>\n",
       "      <td>Dry</td>\n",
       "      <td>Daylight</td>\n",
       "      <td>NaN</td>\n",
       "      <td>4323031.0</td>\n",
       "      <td>NaN</td>\n",
       "      <td>32</td>\n",
       "      <td>One parked--one moving</td>\n",
       "      <td>0</td>\n",
       "      <td>0</td>\n",
       "      <td>N</td>\n",
       "    </tr>\n",
       "    <tr>\n",
       "      <th>3</th>\n",
       "      <td>1</td>\n",
       "      <td>-122.334803</td>\n",
       "      <td>47.604803</td>\n",
       "      <td>4</td>\n",
       "      <td>1144</td>\n",
       "      <td>1144</td>\n",
       "      <td>3503937</td>\n",
       "      <td>Matched</td>\n",
       "      <td>Block</td>\n",
       "      <td>NaN</td>\n",
       "      <td>...</td>\n",
       "      <td>Dry</td>\n",
       "      <td>Daylight</td>\n",
       "      <td>NaN</td>\n",
       "      <td>NaN</td>\n",
       "      <td>NaN</td>\n",
       "      <td>23</td>\n",
       "      <td>From same direction - all others</td>\n",
       "      <td>0</td>\n",
       "      <td>0</td>\n",
       "      <td>N</td>\n",
       "    </tr>\n",
       "    <tr>\n",
       "      <th>4</th>\n",
       "      <td>2</td>\n",
       "      <td>-122.306426</td>\n",
       "      <td>47.545739</td>\n",
       "      <td>5</td>\n",
       "      <td>17700</td>\n",
       "      <td>17700</td>\n",
       "      <td>1807429</td>\n",
       "      <td>Matched</td>\n",
       "      <td>Intersection</td>\n",
       "      <td>34387.0</td>\n",
       "      <td>...</td>\n",
       "      <td>Wet</td>\n",
       "      <td>Daylight</td>\n",
       "      <td>NaN</td>\n",
       "      <td>4028032.0</td>\n",
       "      <td>NaN</td>\n",
       "      <td>10</td>\n",
       "      <td>Entering at angle</td>\n",
       "      <td>0</td>\n",
       "      <td>0</td>\n",
       "      <td>N</td>\n",
       "    </tr>\n",
       "  </tbody>\n",
       "</table>\n",
       "<p>5 rows × 38 columns</p>\n",
       "</div>"
      ],
      "text/plain": [
       "   SEVERITYCODE           X          Y  OBJECTID  INCKEY  COLDETKEY REPORTNO  \\\n",
       "0             2 -122.323148  47.703140         1    1307       1307  3502005   \n",
       "1             1 -122.347294  47.647172         2   52200      52200  2607959   \n",
       "2             1 -122.334540  47.607871         3   26700      26700  1482393   \n",
       "3             1 -122.334803  47.604803         4    1144       1144  3503937   \n",
       "4             2 -122.306426  47.545739         5   17700      17700  1807429   \n",
       "\n",
       "    STATUS      ADDRTYPE   INTKEY  ... ROADCOND                LIGHTCOND  \\\n",
       "0  Matched  Intersection  37475.0  ...      Wet                 Daylight   \n",
       "1  Matched         Block      NaN  ...      Wet  Dark - Street Lights On   \n",
       "2  Matched         Block      NaN  ...      Dry                 Daylight   \n",
       "3  Matched         Block      NaN  ...      Dry                 Daylight   \n",
       "4  Matched  Intersection  34387.0  ...      Wet                 Daylight   \n",
       "\n",
       "  PEDROWNOTGRNT  SDOTCOLNUM SPEEDING ST_COLCODE  \\\n",
       "0           NaN         NaN      NaN         10   \n",
       "1           NaN   6354039.0      NaN         11   \n",
       "2           NaN   4323031.0      NaN         32   \n",
       "3           NaN         NaN      NaN         23   \n",
       "4           NaN   4028032.0      NaN         10   \n",
       "\n",
       "                                          ST_COLDESC  SEGLANEKEY  \\\n",
       "0                                  Entering at angle           0   \n",
       "1  From same direction - both going straight - bo...           0   \n",
       "2                             One parked--one moving           0   \n",
       "3                   From same direction - all others           0   \n",
       "4                                  Entering at angle           0   \n",
       "\n",
       "   CROSSWALKKEY  HITPARKEDCAR  \n",
       "0             0             N  \n",
       "1             0             N  \n",
       "2             0             N  \n",
       "3             0             N  \n",
       "4             0             N  \n",
       "\n",
       "[5 rows x 38 columns]"
      ]
     },
     "execution_count": 2,
     "metadata": {},
     "output_type": "execute_result"
    }
   ],
   "source": [
    "file_name='https://s3.us.cloud-object-storage.appdomain.cloud/cf-courses-data/CognitiveClass/DP0701EN/version-2/Data-Collisions.csv'\n",
    "df=pd.read_csv(file_name)\n",
    "df.head()"
   ]
  },
  {
   "cell_type": "code",
   "execution_count": 3,
   "metadata": {},
   "outputs": [
    {
     "data": {
      "text/plain": [
       "array(['SEVERITYCODE', 'X', 'Y', 'OBJECTID', 'INCKEY', 'COLDETKEY',\n",
       "       'REPORTNO', 'STATUS', 'ADDRTYPE', 'INTKEY', 'LOCATION',\n",
       "       'EXCEPTRSNCODE', 'EXCEPTRSNDESC', 'SEVERITYCODE.1', 'SEVERITYDESC',\n",
       "       'COLLISIONTYPE', 'PERSONCOUNT', 'PEDCOUNT', 'PEDCYLCOUNT',\n",
       "       'VEHCOUNT', 'INCDATE', 'INCDTTM', 'JUNCTIONTYPE', 'SDOT_COLCODE',\n",
       "       'SDOT_COLDESC', 'INATTENTIONIND', 'UNDERINFL', 'WEATHER',\n",
       "       'ROADCOND', 'LIGHTCOND', 'PEDROWNOTGRNT', 'SDOTCOLNUM', 'SPEEDING',\n",
       "       'ST_COLCODE', 'ST_COLDESC', 'SEGLANEKEY', 'CROSSWALKKEY',\n",
       "       'HITPARKEDCAR'], dtype=object)"
      ]
     },
     "execution_count": 3,
     "metadata": {},
     "output_type": "execute_result"
    }
   ],
   "source": [
    "df.columns.values "
   ]
  },
  {
   "cell_type": "code",
   "execution_count": 4,
   "metadata": {},
   "outputs": [
    {
     "data": {
      "text/plain": [
       "(194673, 38)"
      ]
     },
     "execution_count": 4,
     "metadata": {},
     "output_type": "execute_result"
    }
   ],
   "source": [
    "df.shape"
   ]
  },
  {
   "cell_type": "code",
   "execution_count": 5,
   "metadata": {},
   "outputs": [
    {
     "name": "stdout",
     "output_type": "stream",
     "text": [
      "SEVERITYCODE\n",
      "False    194673\n",
      "Name: SEVERITYCODE, dtype: int64\n",
      "\n",
      "X\n",
      "False    189339\n",
      "True       5334\n",
      "Name: X, dtype: int64\n",
      "\n",
      "Y\n",
      "False    189339\n",
      "True       5334\n",
      "Name: Y, dtype: int64\n",
      "\n",
      "OBJECTID\n",
      "False    194673\n",
      "Name: OBJECTID, dtype: int64\n",
      "\n",
      "INCKEY\n",
      "False    194673\n",
      "Name: INCKEY, dtype: int64\n",
      "\n",
      "COLDETKEY\n",
      "False    194673\n",
      "Name: COLDETKEY, dtype: int64\n",
      "\n",
      "REPORTNO\n",
      "False    194673\n",
      "Name: REPORTNO, dtype: int64\n",
      "\n",
      "STATUS\n",
      "False    194673\n",
      "Name: STATUS, dtype: int64\n",
      "\n",
      "ADDRTYPE\n",
      "False    192747\n",
      "True       1926\n",
      "Name: ADDRTYPE, dtype: int64\n",
      "\n",
      "INTKEY\n",
      "True     129603\n",
      "False     65070\n",
      "Name: INTKEY, dtype: int64\n",
      "\n",
      "LOCATION\n",
      "False    191996\n",
      "True       2677\n",
      "Name: LOCATION, dtype: int64\n",
      "\n",
      "EXCEPTRSNCODE\n",
      "True     109862\n",
      "False     84811\n",
      "Name: EXCEPTRSNCODE, dtype: int64\n",
      "\n",
      "EXCEPTRSNDESC\n",
      "True     189035\n",
      "False      5638\n",
      "Name: EXCEPTRSNDESC, dtype: int64\n",
      "\n",
      "SEVERITYCODE.1\n",
      "False    194673\n",
      "Name: SEVERITYCODE.1, dtype: int64\n",
      "\n",
      "SEVERITYDESC\n",
      "False    194673\n",
      "Name: SEVERITYDESC, dtype: int64\n",
      "\n",
      "COLLISIONTYPE\n",
      "False    189769\n",
      "True       4904\n",
      "Name: COLLISIONTYPE, dtype: int64\n",
      "\n",
      "PERSONCOUNT\n",
      "False    194673\n",
      "Name: PERSONCOUNT, dtype: int64\n",
      "\n",
      "PEDCOUNT\n",
      "False    194673\n",
      "Name: PEDCOUNT, dtype: int64\n",
      "\n",
      "PEDCYLCOUNT\n",
      "False    194673\n",
      "Name: PEDCYLCOUNT, dtype: int64\n",
      "\n",
      "VEHCOUNT\n",
      "False    194673\n",
      "Name: VEHCOUNT, dtype: int64\n",
      "\n",
      "INCDATE\n",
      "False    194673\n",
      "Name: INCDATE, dtype: int64\n",
      "\n",
      "INCDTTM\n",
      "False    194673\n",
      "Name: INCDTTM, dtype: int64\n",
      "\n",
      "JUNCTIONTYPE\n",
      "False    188344\n",
      "True       6329\n",
      "Name: JUNCTIONTYPE, dtype: int64\n",
      "\n",
      "SDOT_COLCODE\n",
      "False    194673\n",
      "Name: SDOT_COLCODE, dtype: int64\n",
      "\n",
      "SDOT_COLDESC\n",
      "False    194673\n",
      "Name: SDOT_COLDESC, dtype: int64\n",
      "\n",
      "INATTENTIONIND\n",
      "True     164868\n",
      "False     29805\n",
      "Name: INATTENTIONIND, dtype: int64\n",
      "\n",
      "UNDERINFL\n",
      "False    189789\n",
      "True       4884\n",
      "Name: UNDERINFL, dtype: int64\n",
      "\n",
      "WEATHER\n",
      "False    189592\n",
      "True       5081\n",
      "Name: WEATHER, dtype: int64\n",
      "\n",
      "ROADCOND\n",
      "False    189661\n",
      "True       5012\n",
      "Name: ROADCOND, dtype: int64\n",
      "\n",
      "LIGHTCOND\n",
      "False    189503\n",
      "True       5170\n",
      "Name: LIGHTCOND, dtype: int64\n",
      "\n",
      "PEDROWNOTGRNT\n",
      "True     190006\n",
      "False      4667\n",
      "Name: PEDROWNOTGRNT, dtype: int64\n",
      "\n",
      "SDOTCOLNUM\n",
      "False    114936\n",
      "True      79737\n",
      "Name: SDOTCOLNUM, dtype: int64\n",
      "\n",
      "SPEEDING\n",
      "True     185340\n",
      "False      9333\n",
      "Name: SPEEDING, dtype: int64\n",
      "\n",
      "ST_COLCODE\n",
      "False    194655\n",
      "True         18\n",
      "Name: ST_COLCODE, dtype: int64\n",
      "\n",
      "ST_COLDESC\n",
      "False    189769\n",
      "True       4904\n",
      "Name: ST_COLDESC, dtype: int64\n",
      "\n",
      "SEGLANEKEY\n",
      "False    194673\n",
      "Name: SEGLANEKEY, dtype: int64\n",
      "\n",
      "CROSSWALKKEY\n",
      "False    194673\n",
      "Name: CROSSWALKKEY, dtype: int64\n",
      "\n",
      "HITPARKEDCAR\n",
      "False    194673\n",
      "Name: HITPARKEDCAR, dtype: int64\n",
      "\n"
     ]
    }
   ],
   "source": [
    "missing_data = df.isnull()\n",
    "for column in missing_data.columns.values.tolist():\n",
    "    print(column)\n",
    "    print (missing_data[column].value_counts()) \n",
    "    print(\"\")  \n",
    "#\"True\" stands for missing value, while \"False\" stands for not missing value."
   ]
  },
  {
   "cell_type": "markdown",
   "metadata": {},
   "source": [
    "# Cleaning data"
   ]
  },
  {
   "cell_type": "markdown",
   "metadata": {},
   "source": [
    "Here we drop those coulmns that they have high number of missing values and also those ones we do not need for analyzing"
   ]
  },
  {
   "cell_type": "code",
   "execution_count": 6,
   "metadata": {
    "scrolled": true
   },
   "outputs": [
    {
     "data": {
      "text/plain": [
       "(194673, 19)"
      ]
     },
     "execution_count": 6,
     "metadata": {},
     "output_type": "execute_result"
    }
   ],
   "source": [
    "df.drop([\"SPEEDING\",\"PEDROWNOTGRNT\",\"INATTENTIONIND\",\"EXCEPTRSNDESC\",\"INTKEY\",'EXCEPTRSNCODE',\n",
    "         'SEVERITYCODE.1','OBJECTID','INCKEY','COLDETKEY','REPORTNO','STATUS','LOCATION',\n",
    "         'SDOT_COLDESC','SDOTCOLNUM','ST_COLCODE','ST_COLDESC','SEGLANEKEY','CROSSWALKKEY'], axis=1, inplace=True)\n",
    "df.shape"
   ]
  },
  {
   "cell_type": "markdown",
   "metadata": {},
   "source": [
    "Lets see which kind of category each columens have:"
   ]
  },
  {
   "cell_type": "code",
   "execution_count": 7,
   "metadata": {},
   "outputs": [
    {
     "name": "stdout",
     "output_type": "stream",
     "text": [
      "SEVERITYCODE\n",
      "1    136485\n",
      "2     58188\n",
      "Name: SEVERITYCODE, dtype: int64\n",
      "\n",
      "SEVERITYDESC\n",
      "Property Damage Only Collision    136485\n",
      "Injury Collision                   58188\n",
      "Name: SEVERITYDESC, dtype: int64\n",
      "\n",
      "COLLISIONTYPE\n",
      "Parked Car    47987\n",
      "Angles        34674\n",
      "Rear Ended    34090\n",
      "Other         23703\n",
      "Sideswipe     18609\n",
      "Left Turn     13703\n",
      "Pedestrian     6608\n",
      "Cycles         5415\n",
      "Right Turn     2956\n",
      "Head On        2024\n",
      "Name: COLLISIONTYPE, dtype: int64\n",
      "\n",
      "ADDRTYPE\n",
      "Block           126926\n",
      "Intersection     65070\n",
      "Alley              751\n",
      "Name: ADDRTYPE, dtype: int64\n",
      "\n",
      "JUNCTIONTYPE\n",
      "Mid-Block (not related to intersection)              89800\n",
      "At Intersection (intersection related)               62810\n",
      "Mid-Block (but intersection related)                 22790\n",
      "Driveway Junction                                    10671\n",
      "At Intersection (but not related to intersection)     2098\n",
      "Ramp Junction                                          166\n",
      "Unknown                                                  9\n",
      "Name: JUNCTIONTYPE, dtype: int64\n",
      "\n",
      "WEATHER\n",
      "Clear                       111135\n",
      "Raining                      33145\n",
      "Overcast                     27714\n",
      "Unknown                      15091\n",
      "Snowing                        907\n",
      "Other                          832\n",
      "Fog/Smog/Smoke                 569\n",
      "Sleet/Hail/Freezing Rain       113\n",
      "Blowing Sand/Dirt               56\n",
      "Severe Crosswind                25\n",
      "Partly Cloudy                    5\n",
      "Name: WEATHER, dtype: int64\n",
      "\n",
      "ROADCOND\n",
      "Dry               124510\n",
      "Wet                47474\n",
      "Unknown            15078\n",
      "Ice                 1209\n",
      "Snow/Slush          1004\n",
      "Other                132\n",
      "Standing Water       115\n",
      "Sand/Mud/Dirt         75\n",
      "Oil                   64\n",
      "Name: ROADCOND, dtype: int64\n",
      "\n",
      "LIGHTCOND\n",
      "Daylight                    116137\n",
      "Dark - Street Lights On      48507\n",
      "Unknown                      13473\n",
      "Dusk                          5902\n",
      "Dawn                          2502\n",
      "Dark - No Street Lights       1537\n",
      "Dark - Street Lights Off      1199\n",
      "Other                          235\n",
      "Dark - Unknown Lighting         11\n",
      "Name: LIGHTCOND, dtype: int64\n",
      "\n",
      "UNDERINFL\n",
      "N    100274\n",
      "0     80394\n",
      "Y      5126\n",
      "1      3995\n",
      "Name: UNDERINFL, dtype: int64\n",
      "\n",
      "HITPARKEDCAR\n",
      "N    187457\n",
      "Y      7216\n",
      "Name: HITPARKEDCAR, dtype: int64\n",
      "\n",
      "SDOT_COLCODE\n",
      "11    85209\n",
      "14    54299\n",
      "16     9928\n",
      "0      9787\n",
      "28     8856\n",
      "24     6518\n",
      "13     5852\n",
      "26     4741\n",
      "18     3104\n",
      "15     1604\n",
      "12     1440\n",
      "51     1312\n",
      "29      479\n",
      "21      181\n",
      "56      180\n",
      "27      166\n",
      "54      139\n",
      "23      124\n",
      "48      107\n",
      "31      104\n",
      "25      102\n",
      "34       93\n",
      "64       75\n",
      "69       69\n",
      "33       53\n",
      "55       50\n",
      "66       23\n",
      "22       17\n",
      "32       12\n",
      "53        9\n",
      "44        8\n",
      "61        7\n",
      "35        6\n",
      "58        5\n",
      "36        4\n",
      "68        4\n",
      "46        3\n",
      "52        2\n",
      "47        1\n",
      "Name: SDOT_COLCODE, dtype: int64\n",
      "\n"
     ]
    }
   ],
   "source": [
    "columns=['SEVERITYCODE','SEVERITYDESC','COLLISIONTYPE','ADDRTYPE',  'JUNCTIONTYPE', 'WEATHER', \n",
    " 'ROADCOND','LIGHTCOND',  'UNDERINFL', 'HITPARKEDCAR','SDOT_COLCODE']\n",
    "\n",
    "for col in columns:\n",
    "    print(col)\n",
    "    print(df[col].value_counts())\n",
    "    print()"
   ]
  },
  {
   "cell_type": "markdown",
   "metadata": {},
   "source": [
    "Still in our data we have some of datas that are unknow/other or still missing, we need to take care of them:"
   ]
  },
  {
   "cell_type": "code",
   "execution_count": 8,
   "metadata": {},
   "outputs": [],
   "source": [
    "df[\"UNDERINFL\"] = df[\"UNDERINFL\"].replace(\"N\", 0)\n",
    "df[\"UNDERINFL\"] = df[\"UNDERINFL\"].replace(\"0\", 0)\n",
    "df[\"UNDERINFL\"] = df[\"UNDERINFL\"].replace(\"1\", 1)\n",
    "df[\"UNDERINFL\"] = df[\"UNDERINFL\"].replace(\"Y\", 1)"
   ]
  },
  {
   "cell_type": "code",
   "execution_count": 9,
   "metadata": {},
   "outputs": [],
   "source": [
    "df = df.drop(df[df.COLLISIONTYPE == 'Other'].index)\n",
    "df = df.drop(df[df.JUNCTIONTYPE == 'Unknown'].index)\n",
    "df = df.drop(df[df.WEATHER == 'Unknown'].index)\n",
    "df = df.drop(df[df.WEATHER == 'Other'].index)\n",
    "df = df.drop(df[df.ROADCOND == 'Unknown'].index)\n",
    "df = df.drop(df[df.ROADCOND == 'Other'].index)\n",
    "df = df.drop(df[df.LIGHTCOND == 'Unknown'].index)\n",
    "df = df.drop(df[df.LIGHTCOND == 'Other'].index)"
   ]
  },
  {
   "cell_type": "code",
   "execution_count": 10,
   "metadata": {},
   "outputs": [],
   "source": [
    "df.dropna(inplace=True)"
   ]
  },
  {
   "cell_type": "code",
   "execution_count": 11,
   "metadata": {},
   "outputs": [
    {
     "data": {
      "text/plain": [
       "<bound method DataFrame.info of         SEVERITYCODE           X          Y      ADDRTYPE  \\\n",
       "0                  2 -122.323148  47.703140  Intersection   \n",
       "1                  1 -122.347294  47.647172         Block   \n",
       "2                  1 -122.334540  47.607871         Block   \n",
       "4                  2 -122.306426  47.545739  Intersection   \n",
       "5                  1 -122.387598  47.690575  Intersection   \n",
       "...              ...         ...        ...           ...   \n",
       "194668             2 -122.290826  47.565408         Block   \n",
       "194669             1 -122.344526  47.690924         Block   \n",
       "194670             2 -122.306689  47.683047  Intersection   \n",
       "194671             2 -122.355317  47.678734  Intersection   \n",
       "194672             1 -122.289360  47.611017         Block   \n",
       "\n",
       "                          SEVERITYDESC COLLISIONTYPE  PERSONCOUNT  PEDCOUNT  \\\n",
       "0                     Injury Collision        Angles            2         0   \n",
       "1       Property Damage Only Collision     Sideswipe            2         0   \n",
       "2       Property Damage Only Collision    Parked Car            4         0   \n",
       "4                     Injury Collision        Angles            2         0   \n",
       "5       Property Damage Only Collision        Angles            2         0   \n",
       "...                                ...           ...          ...       ...   \n",
       "194668                Injury Collision       Head On            3         0   \n",
       "194669  Property Damage Only Collision    Rear Ended            2         0   \n",
       "194670                Injury Collision     Left Turn            3         0   \n",
       "194671                Injury Collision        Cycles            2         0   \n",
       "194672  Property Damage Only Collision    Rear Ended            2         0   \n",
       "\n",
       "        PEDCYLCOUNT  VEHCOUNT                 INCDATE                 INCDTTM  \\\n",
       "0                 0         2  2013/03/27 00:00:00+00    3/27/2013 2:54:00 PM   \n",
       "1                 0         2  2006/12/20 00:00:00+00   12/20/2006 6:55:00 PM   \n",
       "2                 0         3  2004/11/18 00:00:00+00  11/18/2004 10:20:00 AM   \n",
       "4                 0         2  2004/01/28 00:00:00+00    1/28/2004 8:04:00 AM   \n",
       "5                 0         2  2019/04/20 00:00:00+00    4/20/2019 5:42:00 PM   \n",
       "...             ...       ...                     ...                     ...   \n",
       "194668            0         2  2018/11/12 00:00:00+00   11/12/2018 8:12:00 AM   \n",
       "194669            0         2  2018/12/18 00:00:00+00   12/18/2018 9:14:00 AM   \n",
       "194670            0         2  2019/01/19 00:00:00+00    1/19/2019 9:25:00 AM   \n",
       "194671            1         1  2019/01/15 00:00:00+00    1/15/2019 4:48:00 PM   \n",
       "194672            0         2  2018/11/30 00:00:00+00   11/30/2018 3:45:00 PM   \n",
       "\n",
       "                                   JUNCTIONTYPE  SDOT_COLCODE  UNDERINFL  \\\n",
       "0        At Intersection (intersection related)            11        0.0   \n",
       "1       Mid-Block (not related to intersection)            16        0.0   \n",
       "2       Mid-Block (not related to intersection)            14        0.0   \n",
       "4        At Intersection (intersection related)            11        0.0   \n",
       "5        At Intersection (intersection related)            11        0.0   \n",
       "...                                         ...           ...        ...   \n",
       "194668  Mid-Block (not related to intersection)            11        0.0   \n",
       "194669  Mid-Block (not related to intersection)            14        0.0   \n",
       "194670   At Intersection (intersection related)            11        0.0   \n",
       "194671   At Intersection (intersection related)            51        0.0   \n",
       "194672  Mid-Block (not related to intersection)            14        0.0   \n",
       "\n",
       "         WEATHER ROADCOND                LIGHTCOND HITPARKEDCAR  \n",
       "0       Overcast      Wet                 Daylight            N  \n",
       "1        Raining      Wet  Dark - Street Lights On            N  \n",
       "2       Overcast      Dry                 Daylight            N  \n",
       "4        Raining      Wet                 Daylight            N  \n",
       "5          Clear      Dry                 Daylight            N  \n",
       "...          ...      ...                      ...          ...  \n",
       "194668     Clear      Dry                 Daylight            N  \n",
       "194669   Raining      Wet                 Daylight            N  \n",
       "194670     Clear      Dry                 Daylight            N  \n",
       "194671     Clear      Dry                     Dusk            N  \n",
       "194672     Clear      Wet                 Daylight            N  \n",
       "\n",
       "[143747 rows x 19 columns]>"
      ]
     },
     "execution_count": 11,
     "metadata": {},
     "output_type": "execute_result"
    }
   ],
   "source": [
    "df.info"
   ]
  },
  {
   "cell_type": "markdown",
   "metadata": {},
   "source": [
    "# Balanceing"
   ]
  },
  {
   "cell_type": "code",
   "execution_count": 12,
   "metadata": {},
   "outputs": [
    {
     "name": "stderr",
     "output_type": "stream",
     "text": [
      "/Users/nastarandashti/.pyenv/versions/3.7.3/lib/python3.7/site-packages/seaborn/_decorators.py:43: FutureWarning: Pass the following variable as a keyword arg: x. From version 0.12, the only valid positional argument will be `data`, and passing other arguments without an explicit keyword will result in an error or misinterpretation.\n",
      "  FutureWarning\n"
     ]
    },
    {
     "data": {
      "image/png": "[encoded data removed]",
      "text/plain": [
       "<Figure size 432x288 with 1 Axes>"
      ]
     },
     "metadata": {
      "needs_background": "light"
     },
     "output_type": "display_data"
    }
   ],
   "source": [
    "import seaborn as sns\n",
    "import matplotlib.pyplot as plt \n",
    "\n",
    "\n",
    "sns.countplot('SEVERITYCODE', data=df)\n",
    "plt.title('Unbalanced data')\n",
    "\n",
    "\n",
    "plt.savefig('severity1.png', bbox_inches='tight')\n",
    "plt.show()"
   ]
  },
  {
   "cell_type": "code",
   "execution_count": 13,
   "metadata": {},
   "outputs": [
    {
     "data": {
      "text/plain": [
       "1    94821\n",
       "2    48926\n",
       "Name: SEVERITYCODE, dtype: int64"
      ]
     },
     "execution_count": 13,
     "metadata": {},
     "output_type": "execute_result"
    }
   ],
   "source": [
    "df['SEVERITYCODE'].value_counts()"
   ]
  },
  {
   "cell_type": "code",
   "execution_count": 14,
   "metadata": {},
   "outputs": [
    {
     "data": {
      "text/plain": [
       "Property Damage Only Collision    94821\n",
       "Injury Collision                  48926\n",
       "Name: SEVERITYDESC, dtype: int64"
      ]
     },
     "execution_count": 14,
     "metadata": {},
     "output_type": "execute_result"
    }
   ],
   "source": [
    "df['SEVERITYDESC'].value_counts()"
   ]
  },
  {
   "cell_type": "markdown",
   "metadata": {},
   "source": [
    "## Balanced data by RandomUnderSampler"
   ]
  },
  {
   "cell_type": "code",
   "execution_count": 17,
   "metadata": {},
   "outputs": [
    {
     "name": "stdout",
     "output_type": "stream",
     "text": [
      "1    48926\n",
      "2    48926\n",
      "Name: severity, dtype: int64\n"
     ]
    },
    {
     "name": "stderr",
     "output_type": "stream",
     "text": [
      "/Users/nastarandashti/.pyenv/versions/3.7.3/lib/python3.7/site-packages/seaborn/_decorators.py:43: FutureWarning: Pass the following variable as a keyword arg: x. From version 0.12, the only valid positional argument will be `data`, and passing other arguments without an explicit keyword will result in an error or misinterpretation.\n",
      "  FutureWarning\n"
     ]
    },
    {
     "data": {
      "image/png": "[encoded data removed]",
      "text/plain": [
       "<Figure size 432x288 with 1 Axes>"
      ]
     },
     "metadata": {
      "needs_background": "light"
     },
     "output_type": "display_data"
    }
   ],
   "source": [
    "from collections import Counter\n",
    "from sklearn.datasets import make_classification\n",
    "from imblearn.under_sampling import RandomUnderSampler\n",
    "\n",
    "X = df[['X', 'Y', 'ADDRTYPE', 'COLLISIONTYPE', 'PERSONCOUNT','PEDCOUNT',\n",
    "       'VEHCOUNT','INCDATE', 'INCDTTM', 'JUNCTIONTYPE', 'WEATHER', 'ROADCOND', 'LIGHTCOND','UNDERINFL','HITPARKEDCAR']]\n",
    "y = df[['SEVERITYCODE']]\n",
    "\n",
    "rus = RandomUnderSampler(random_state=0)\n",
    "X_resampled, y_resampled = rus.fit_resample(X, y)\n",
    "df_b = X_resampled\n",
    "df_b['severity'] = y_resampled\n",
    "\n",
    "\n",
    "print(df_b['severity'].value_counts())\n",
    "\n",
    "\n",
    "import seaborn as sns\n",
    "import matplotlib.pyplot as plt \n",
    "\n",
    "\n",
    "sns.countplot('severity', data=df_b)\n",
    "\n",
    "plt.title('Balanced data')\n",
    "plt.savefig('severity2.png', bbox_inches='tight')\n",
    "plt.show()\n"
   ]
  },
  {
   "cell_type": "code",
   "execution_count": 18,
   "metadata": {},
   "outputs": [],
   "source": [
    "#simple way for balanced data\n",
    "#from sklearn.utils import resample\n",
    "#df_max=df[df.SEVERITYCODE== 1]\n",
    "#df_min=df[df.SEVERITYCODE== 2]\n",
    "#df_max_resample= resample(df_max,replace=False, n_samples=49016)\n",
    "\n",
    "#df_b = pd.concat([df_min ,df_max_resample ])\n",
    "#import seaborn as sns\n",
    "#import matplotlib.pyplot as plt \n",
    "\n",
    "\n",
    "#sns.countplot('SEVERITYDESC', data=df_b)\n",
    "\n",
    "#plt.title('Balanced data')\n",
    "#plt.savefig('severity2.png', bbox_inches='tight')\n",
    "#plt.show()"
   ]
  },
  {
   "cell_type": "markdown",
   "metadata": {},
   "source": [
    "# Analyzing Data"
   ]
  },
  {
   "cell_type": "markdown",
   "metadata": {},
   "source": [
    "## Geographic details of severity "
   ]
  },
  {
   "cell_type": "markdown",
   "metadata": {},
   "source": [
    "Here we study the location of accidents for two typs of severity."
   ]
  },
  {
   "cell_type": "code",
   "execution_count": null,
   "metadata": {},
   "outputs": [],
   "source": [
    "pip install folium\n",
    "print('Folium installed and imported!')"
   ]
  },
  {
   "cell_type": "code",
   "execution_count": null,
   "metadata": {
    "scrolled": true
   },
   "outputs": [],
   "source": [
    "import folium\n",
    "from folium import plugins\n",
    "\n",
    "latitude = df_b.Y.mean()\n",
    "longitude = df_b.X.mean()\n",
    "\n",
    "# create map and display it\n",
    "seattle_map = folium.Map(location=[latitude, longitude], zoom_start=12)\n",
    "\n",
    "# instantiate a mark cluster object for the incidents in the dataframe\n",
    "collisions = plugins.MarkerCluster().add_to(seattle_map)\n",
    "\n",
    "# loop through the dataframe and add each data point to the mark cluster\n",
    "for lat, lng, label, in zip(df_b.Y, df_b.X, df_b.severity):\n",
    "    folium.Marker(\n",
    "        location=[lat, lng],\n",
    "    ).add_to(collisions)\n",
    "\n",
    "# display map\n",
    "seattle_map"
   ]
  },
  {
   "cell_type": "markdown",
   "metadata": {},
   "source": [
    "## Time"
   ]
  },
  {
   "cell_type": "code",
   "execution_count": 20,
   "metadata": {},
   "outputs": [
    {
     "data": {
      "text/html": [
       "<div>\n",
       "<style scoped>\n",
       "    .dataframe tbody tr th:only-of-type {\n",
       "        vertical-align: middle;\n",
       "    }\n",
       "\n",
       "    .dataframe tbody tr th {\n",
       "        vertical-align: top;\n",
       "    }\n",
       "\n",
       "    .dataframe thead th {\n",
       "        text-align: right;\n",
       "    }\n",
       "</style>\n",
       "<table border=\"1\" class=\"dataframe\">\n",
       "  <thead>\n",
       "    <tr style=\"text-align: right;\">\n",
       "      <th></th>\n",
       "      <th>X</th>\n",
       "      <th>Y</th>\n",
       "      <th>ADDRTYPE</th>\n",
       "      <th>COLLISIONTYPE</th>\n",
       "      <th>PERSONCOUNT</th>\n",
       "      <th>PEDCOUNT</th>\n",
       "      <th>VEHCOUNT</th>\n",
       "      <th>INCDATE</th>\n",
       "      <th>INCDTTM</th>\n",
       "      <th>JUNCTIONTYPE</th>\n",
       "      <th>WEATHER</th>\n",
       "      <th>ROADCOND</th>\n",
       "      <th>LIGHTCOND</th>\n",
       "      <th>UNDERINFL</th>\n",
       "      <th>HITPARKEDCAR</th>\n",
       "      <th>severity</th>\n",
       "    </tr>\n",
       "  </thead>\n",
       "  <tbody>\n",
       "    <tr>\n",
       "      <th>0</th>\n",
       "      <td>-122.313402</td>\n",
       "      <td>47.572363</td>\n",
       "      <td>Block</td>\n",
       "      <td>Rear Ended</td>\n",
       "      <td>2</td>\n",
       "      <td>0</td>\n",
       "      <td>2</td>\n",
       "      <td>2010/08/31 00:00:00+00</td>\n",
       "      <td>8/31/2010 6:50:00 PM</td>\n",
       "      <td>Mid-Block (not related to intersection)</td>\n",
       "      <td>Raining</td>\n",
       "      <td>Wet</td>\n",
       "      <td>Dusk</td>\n",
       "      <td>0.0</td>\n",
       "      <td>N</td>\n",
       "      <td>1</td>\n",
       "    </tr>\n",
       "    <tr>\n",
       "      <th>1</th>\n",
       "      <td>-122.342842</td>\n",
       "      <td>47.613551</td>\n",
       "      <td>Block</td>\n",
       "      <td>Parked Car</td>\n",
       "      <td>2</td>\n",
       "      <td>0</td>\n",
       "      <td>2</td>\n",
       "      <td>2008/10/03 00:00:00+00</td>\n",
       "      <td>10/3/2008</td>\n",
       "      <td>Mid-Block (not related to intersection)</td>\n",
       "      <td>Raining</td>\n",
       "      <td>Wet</td>\n",
       "      <td>Daylight</td>\n",
       "      <td>0.0</td>\n",
       "      <td>N</td>\n",
       "      <td>1</td>\n",
       "    </tr>\n",
       "    <tr>\n",
       "      <th>2</th>\n",
       "      <td>-122.293240</td>\n",
       "      <td>47.560808</td>\n",
       "      <td>Intersection</td>\n",
       "      <td>Left Turn</td>\n",
       "      <td>5</td>\n",
       "      <td>0</td>\n",
       "      <td>2</td>\n",
       "      <td>2016/08/13 00:00:00+00</td>\n",
       "      <td>8/13/2016 11:51:00 AM</td>\n",
       "      <td>At Intersection (intersection related)</td>\n",
       "      <td>Clear</td>\n",
       "      <td>Dry</td>\n",
       "      <td>Daylight</td>\n",
       "      <td>0.0</td>\n",
       "      <td>N</td>\n",
       "      <td>1</td>\n",
       "    </tr>\n",
       "    <tr>\n",
       "      <th>3</th>\n",
       "      <td>-122.338651</td>\n",
       "      <td>47.607332</td>\n",
       "      <td>Block</td>\n",
       "      <td>Rear Ended</td>\n",
       "      <td>2</td>\n",
       "      <td>0</td>\n",
       "      <td>2</td>\n",
       "      <td>2005/06/11 00:00:00+00</td>\n",
       "      <td>6/11/2005 9:56:00 PM</td>\n",
       "      <td>Mid-Block (not related to intersection)</td>\n",
       "      <td>Raining</td>\n",
       "      <td>Wet</td>\n",
       "      <td>Dark - Street Lights On</td>\n",
       "      <td>0.0</td>\n",
       "      <td>N</td>\n",
       "      <td>1</td>\n",
       "    </tr>\n",
       "    <tr>\n",
       "      <th>4</th>\n",
       "      <td>-122.335740</td>\n",
       "      <td>47.649193</td>\n",
       "      <td>Block</td>\n",
       "      <td>Parked Car</td>\n",
       "      <td>2</td>\n",
       "      <td>0</td>\n",
       "      <td>2</td>\n",
       "      <td>2009/06/12 00:00:00+00</td>\n",
       "      <td>6/12/2009 2:20:00 PM</td>\n",
       "      <td>Mid-Block (not related to intersection)</td>\n",
       "      <td>Clear</td>\n",
       "      <td>Dry</td>\n",
       "      <td>Daylight</td>\n",
       "      <td>0.0</td>\n",
       "      <td>N</td>\n",
       "      <td>1</td>\n",
       "    </tr>\n",
       "  </tbody>\n",
       "</table>\n",
       "</div>"
      ],
      "text/plain": [
       "            X          Y      ADDRTYPE COLLISIONTYPE  PERSONCOUNT  PEDCOUNT  \\\n",
       "0 -122.313402  47.572363         Block    Rear Ended            2         0   \n",
       "1 -122.342842  47.613551         Block    Parked Car            2         0   \n",
       "2 -122.293240  47.560808  Intersection     Left Turn            5         0   \n",
       "3 -122.338651  47.607332         Block    Rear Ended            2         0   \n",
       "4 -122.335740  47.649193         Block    Parked Car            2         0   \n",
       "\n",
       "   VEHCOUNT                 INCDATE                INCDTTM  \\\n",
       "0         2  2010/08/31 00:00:00+00   8/31/2010 6:50:00 PM   \n",
       "1         2  2008/10/03 00:00:00+00              10/3/2008   \n",
       "2         2  2016/08/13 00:00:00+00  8/13/2016 11:51:00 AM   \n",
       "3         2  2005/06/11 00:00:00+00   6/11/2005 9:56:00 PM   \n",
       "4         2  2009/06/12 00:00:00+00   6/12/2009 2:20:00 PM   \n",
       "\n",
       "                              JUNCTIONTYPE  WEATHER ROADCOND  \\\n",
       "0  Mid-Block (not related to intersection)  Raining      Wet   \n",
       "1  Mid-Block (not related to intersection)  Raining      Wet   \n",
       "2   At Intersection (intersection related)    Clear      Dry   \n",
       "3  Mid-Block (not related to intersection)  Raining      Wet   \n",
       "4  Mid-Block (not related to intersection)    Clear      Dry   \n",
       "\n",
       "                 LIGHTCOND  UNDERINFL HITPARKEDCAR  severity  \n",
       "0                     Dusk        0.0            N         1  \n",
       "1                 Daylight        0.0            N         1  \n",
       "2                 Daylight        0.0            N         1  \n",
       "3  Dark - Street Lights On        0.0            N         1  \n",
       "4                 Daylight        0.0            N         1  "
      ]
     },
     "execution_count": 20,
     "metadata": {},
     "output_type": "execute_result"
    }
   ],
   "source": [
    "df_b.head()"
   ]
  },
  {
   "cell_type": "code",
   "execution_count": 21,
   "metadata": {},
   "outputs": [
    {
     "data": {
      "text/html": [
       "<div>\n",
       "<style scoped>\n",
       "    .dataframe tbody tr th:only-of-type {\n",
       "        vertical-align: middle;\n",
       "    }\n",
       "\n",
       "    .dataframe tbody tr th {\n",
       "        vertical-align: top;\n",
       "    }\n",
       "\n",
       "    .dataframe thead th {\n",
       "        text-align: right;\n",
       "    }\n",
       "</style>\n",
       "<table border=\"1\" class=\"dataframe\">\n",
       "  <thead>\n",
       "    <tr style=\"text-align: right;\">\n",
       "      <th></th>\n",
       "      <th>X</th>\n",
       "      <th>Y</th>\n",
       "      <th>ADDRTYPE</th>\n",
       "      <th>COLLISIONTYPE</th>\n",
       "      <th>PERSONCOUNT</th>\n",
       "      <th>PEDCOUNT</th>\n",
       "      <th>VEHCOUNT</th>\n",
       "      <th>INCDATE</th>\n",
       "      <th>INCDTTM</th>\n",
       "      <th>JUNCTIONTYPE</th>\n",
       "      <th>WEATHER</th>\n",
       "      <th>ROADCOND</th>\n",
       "      <th>LIGHTCOND</th>\n",
       "      <th>UNDERINFL</th>\n",
       "      <th>HITPARKEDCAR</th>\n",
       "      <th>severity</th>\n",
       "      <th>dayofweek</th>\n",
       "      <th>Year</th>\n",
       "      <th>month</th>\n",
       "    </tr>\n",
       "  </thead>\n",
       "  <tbody>\n",
       "    <tr>\n",
       "      <th>0</th>\n",
       "      <td>-122.313402</td>\n",
       "      <td>47.572363</td>\n",
       "      <td>Block</td>\n",
       "      <td>Rear Ended</td>\n",
       "      <td>2</td>\n",
       "      <td>0</td>\n",
       "      <td>2</td>\n",
       "      <td>2010-08-31 00:00:00+00:00</td>\n",
       "      <td>8/31/2010 6:50:00 PM</td>\n",
       "      <td>Mid-Block (not related to intersection)</td>\n",
       "      <td>Raining</td>\n",
       "      <td>Wet</td>\n",
       "      <td>Dusk</td>\n",
       "      <td>0.0</td>\n",
       "      <td>N</td>\n",
       "      <td>1</td>\n",
       "      <td>1</td>\n",
       "      <td>2010</td>\n",
       "      <td>8</td>\n",
       "    </tr>\n",
       "    <tr>\n",
       "      <th>1</th>\n",
       "      <td>-122.342842</td>\n",
       "      <td>47.613551</td>\n",
       "      <td>Block</td>\n",
       "      <td>Parked Car</td>\n",
       "      <td>2</td>\n",
       "      <td>0</td>\n",
       "      <td>2</td>\n",
       "      <td>2008-10-03 00:00:00+00:00</td>\n",
       "      <td>10/3/2008</td>\n",
       "      <td>Mid-Block (not related to intersection)</td>\n",
       "      <td>Raining</td>\n",
       "      <td>Wet</td>\n",
       "      <td>Daylight</td>\n",
       "      <td>0.0</td>\n",
       "      <td>N</td>\n",
       "      <td>1</td>\n",
       "      <td>4</td>\n",
       "      <td>2008</td>\n",
       "      <td>10</td>\n",
       "    </tr>\n",
       "    <tr>\n",
       "      <th>2</th>\n",
       "      <td>-122.293240</td>\n",
       "      <td>47.560808</td>\n",
       "      <td>Intersection</td>\n",
       "      <td>Left Turn</td>\n",
       "      <td>5</td>\n",
       "      <td>0</td>\n",
       "      <td>2</td>\n",
       "      <td>2016-08-13 00:00:00+00:00</td>\n",
       "      <td>8/13/2016 11:51:00 AM</td>\n",
       "      <td>At Intersection (intersection related)</td>\n",
       "      <td>Clear</td>\n",
       "      <td>Dry</td>\n",
       "      <td>Daylight</td>\n",
       "      <td>0.0</td>\n",
       "      <td>N</td>\n",
       "      <td>1</td>\n",
       "      <td>5</td>\n",
       "      <td>2016</td>\n",
       "      <td>8</td>\n",
       "    </tr>\n",
       "    <tr>\n",
       "      <th>3</th>\n",
       "      <td>-122.338651</td>\n",
       "      <td>47.607332</td>\n",
       "      <td>Block</td>\n",
       "      <td>Rear Ended</td>\n",
       "      <td>2</td>\n",
       "      <td>0</td>\n",
       "      <td>2</td>\n",
       "      <td>2005-06-11 00:00:00+00:00</td>\n",
       "      <td>6/11/2005 9:56:00 PM</td>\n",
       "      <td>Mid-Block (not related to intersection)</td>\n",
       "      <td>Raining</td>\n",
       "      <td>Wet</td>\n",
       "      <td>Dark - Street Lights On</td>\n",
       "      <td>0.0</td>\n",
       "      <td>N</td>\n",
       "      <td>1</td>\n",
       "      <td>5</td>\n",
       "      <td>2005</td>\n",
       "      <td>6</td>\n",
       "    </tr>\n",
       "    <tr>\n",
       "      <th>4</th>\n",
       "      <td>-122.335740</td>\n",
       "      <td>47.649193</td>\n",
       "      <td>Block</td>\n",
       "      <td>Parked Car</td>\n",
       "      <td>2</td>\n",
       "      <td>0</td>\n",
       "      <td>2</td>\n",
       "      <td>2009-06-12 00:00:00+00:00</td>\n",
       "      <td>6/12/2009 2:20:00 PM</td>\n",
       "      <td>Mid-Block (not related to intersection)</td>\n",
       "      <td>Clear</td>\n",
       "      <td>Dry</td>\n",
       "      <td>Daylight</td>\n",
       "      <td>0.0</td>\n",
       "      <td>N</td>\n",
       "      <td>1</td>\n",
       "      <td>4</td>\n",
       "      <td>2009</td>\n",
       "      <td>6</td>\n",
       "    </tr>\n",
       "  </tbody>\n",
       "</table>\n",
       "</div>"
      ],
      "text/plain": [
       "            X          Y      ADDRTYPE COLLISIONTYPE  PERSONCOUNT  PEDCOUNT  \\\n",
       "0 -122.313402  47.572363         Block    Rear Ended            2         0   \n",
       "1 -122.342842  47.613551         Block    Parked Car            2         0   \n",
       "2 -122.293240  47.560808  Intersection     Left Turn            5         0   \n",
       "3 -122.338651  47.607332         Block    Rear Ended            2         0   \n",
       "4 -122.335740  47.649193         Block    Parked Car            2         0   \n",
       "\n",
       "   VEHCOUNT                   INCDATE                INCDTTM  \\\n",
       "0         2 2010-08-31 00:00:00+00:00   8/31/2010 6:50:00 PM   \n",
       "1         2 2008-10-03 00:00:00+00:00              10/3/2008   \n",
       "2         2 2016-08-13 00:00:00+00:00  8/13/2016 11:51:00 AM   \n",
       "3         2 2005-06-11 00:00:00+00:00   6/11/2005 9:56:00 PM   \n",
       "4         2 2009-06-12 00:00:00+00:00   6/12/2009 2:20:00 PM   \n",
       "\n",
       "                              JUNCTIONTYPE  WEATHER ROADCOND  \\\n",
       "0  Mid-Block (not related to intersection)  Raining      Wet   \n",
       "1  Mid-Block (not related to intersection)  Raining      Wet   \n",
       "2   At Intersection (intersection related)    Clear      Dry   \n",
       "3  Mid-Block (not related to intersection)  Raining      Wet   \n",
       "4  Mid-Block (not related to intersection)    Clear      Dry   \n",
       "\n",
       "                 LIGHTCOND  UNDERINFL HITPARKEDCAR  severity  dayofweek  Year  \\\n",
       "0                     Dusk        0.0            N         1          1  2010   \n",
       "1                 Daylight        0.0            N         1          4  2008   \n",
       "2                 Daylight        0.0            N         1          5  2016   \n",
       "3  Dark - Street Lights On        0.0            N         1          5  2005   \n",
       "4                 Daylight        0.0            N         1          4  2009   \n",
       "\n",
       "   month  \n",
       "0      8  \n",
       "1     10  \n",
       "2      8  \n",
       "3      6  \n",
       "4      6  "
      ]
     },
     "execution_count": 21,
     "metadata": {},
     "output_type": "execute_result"
    }
   ],
   "source": [
    "df_b['INCDATE'] = pd.to_datetime(df_b['INCDATE'])\n",
    "df_b['dayofweek'] = df_b['INCDATE'].dt.dayofweek\n",
    "df_b['Year'] = pd.DatetimeIndex(df_b['INCDATE']).year \n",
    "df_b['month'] = pd.DatetimeIndex(df_b['INCDATE']).month\n",
    "df_b.head()\n"
   ]
  },
  {
   "cell_type": "code",
   "execution_count": 22,
   "metadata": {
    "scrolled": true
   },
   "outputs": [
    {
     "data": {
      "image/png": "[encoded data removed]",
      "text/plain": [
       "<Figure size 432x288 with 1 Axes>"
      ]
     },
     "metadata": {
      "needs_background": "light"
     },
     "output_type": "display_data"
    }
   ],
   "source": [
    "sns.countplot(y=\"dayofweek\", hue=\"severity\", data=df_b)\n",
    "plt.savefig('week.png', bbox_inches='tight')"
   ]
  },
  {
   "cell_type": "code",
   "execution_count": 23,
   "metadata": {},
   "outputs": [
    {
     "data": {
      "text/html": [
       "<div>\n",
       "<style scoped>\n",
       "    .dataframe tbody tr th:only-of-type {\n",
       "        vertical-align: middle;\n",
       "    }\n",
       "\n",
       "    .dataframe tbody tr th {\n",
       "        vertical-align: top;\n",
       "    }\n",
       "\n",
       "    .dataframe thead th {\n",
       "        text-align: right;\n",
       "    }\n",
       "</style>\n",
       "<table border=\"1\" class=\"dataframe\">\n",
       "  <thead>\n",
       "    <tr style=\"text-align: right;\">\n",
       "      <th></th>\n",
       "      <th>Property-Damage_1</th>\n",
       "      <th>Injury_2</th>\n",
       "      <th>Year</th>\n",
       "    </tr>\n",
       "  </thead>\n",
       "  <tbody>\n",
       "    <tr>\n",
       "      <th>0</th>\n",
       "      <td>1</td>\n",
       "      <td>0</td>\n",
       "      <td>2010</td>\n",
       "    </tr>\n",
       "    <tr>\n",
       "      <th>1</th>\n",
       "      <td>1</td>\n",
       "      <td>0</td>\n",
       "      <td>2008</td>\n",
       "    </tr>\n",
       "    <tr>\n",
       "      <th>2</th>\n",
       "      <td>1</td>\n",
       "      <td>0</td>\n",
       "      <td>2016</td>\n",
       "    </tr>\n",
       "    <tr>\n",
       "      <th>3</th>\n",
       "      <td>1</td>\n",
       "      <td>0</td>\n",
       "      <td>2005</td>\n",
       "    </tr>\n",
       "    <tr>\n",
       "      <th>4</th>\n",
       "      <td>1</td>\n",
       "      <td>0</td>\n",
       "      <td>2009</td>\n",
       "    </tr>\n",
       "  </tbody>\n",
       "</table>\n",
       "</div>"
      ],
      "text/plain": [
       "   Property-Damage_1  Injury_2  Year\n",
       "0                  1         0  2010\n",
       "1                  1         0  2008\n",
       "2                  1         0  2016\n",
       "3                  1         0  2005\n",
       "4                  1         0  2009"
      ]
     },
     "execution_count": 23,
     "metadata": {},
     "output_type": "execute_result"
    }
   ],
   "source": [
    "dummy = pd.get_dummies(df_b['severity'])\n",
    "dummy.rename(columns={1:'Property-Damage_1',2:'Injury_2' }, inplace=True)\n",
    "dummy['Year']=df_b['Year']\n",
    "dummy.head()"
   ]
  },
  {
   "cell_type": "code",
   "execution_count": 24,
   "metadata": {},
   "outputs": [
    {
     "data": {
      "image/png": "[encoded data removed]",
      "text/plain": [
       "<Figure size 864x432 with 1 Axes>"
      ]
     },
     "metadata": {
      "needs_background": "light"
     },
     "output_type": "display_data"
    }
   ],
   "source": [
    "dummy_year= dummy.groupby('Year', axis=0).sum().astype(int)\n",
    "dummy_year.plot(kind='line', figsize=(12, 6)) # pass a tuple (x, y) size\n",
    "plt.title('Number of accident')\n",
    "plt.ylabel('Number of accident')\n",
    "plt.xlabel('Years')\n",
    "\n",
    "plt.savefig('year.png')"
   ]
  },
  {
   "cell_type": "code",
   "execution_count": 25,
   "metadata": {},
   "outputs": [
    {
     "data": {
      "image/png": "[encoded data removed]",
      "text/plain": [
       "<Figure size 864x432 with 1 Axes>"
      ]
     },
     "metadata": {
      "needs_background": "light"
     },
     "output_type": "display_data"
    }
   ],
   "source": [
    "dummy1 = pd.get_dummies(df_b['severity'])\n",
    "dummy1.rename(columns={1:'Property-Damage_1',2:'Injury_2'}, inplace=True)\n",
    "dummy1['month']=df_b['month']\n",
    "\n",
    "dummy_month= dummy1.groupby('month', axis=0).sum().astype(int)\n",
    "dummy_month.plot(kind='line', figsize=(12, 6)) # pass a tuple (x, y) size\n",
    "plt.title('Number of accident')\n",
    "plt.ylabel('Number of accident')\n",
    "plt.xlabel('month')\n",
    "\n",
    "\n",
    "plt.savefig('month.png')\n",
    "plt.show()"
   ]
  },
  {
   "cell_type": "markdown",
   "metadata": {},
   "source": [
    "## Others"
   ]
  },
  {
   "cell_type": "code",
   "execution_count": 26,
   "metadata": {},
   "outputs": [
    {
     "data": {
      "text/plain": [
       "<AxesSubplot:xlabel='count', ylabel='LIGHTCOND'>"
      ]
     },
     "execution_count": 26,
     "metadata": {},
     "output_type": "execute_result"
    },
    {
     "data": {
      "image/png": "[encoded data removed]",
      "text/plain": [
       "<Figure size 1728x864 with 6 Axes>"
      ]
     },
     "metadata": {
      "needs_background": "light"
     },
     "output_type": "display_data"
    }
   ],
   "source": [
    "fig, axs = plt.subplots(ncols=3, nrows=2, figsize=(24,12))\n",
    "plt.subplots_adjust(hspace = 0.8, wspace=0.8)\n",
    "sns.countplot(y=\"ADDRTYPE\", hue=\"severity\", data=df_b, ax=axs[0, 0])\n",
    "sns.countplot(y=\"COLLISIONTYPE\", hue=\"severity\", data=df_b, ax=axs[0, 1])\n",
    "sns.countplot(y=\"JUNCTIONTYPE\", hue=\"severity\", data=df_b, ax=axs[0, 2])\n",
    "sns.countplot(y=\"WEATHER\", hue=\"severity\", data=df_b, ax=axs[1, 0])\n",
    "sns.countplot(y=\"ROADCOND\", hue=\"severity\", data=df_b, ax=axs[1, 1])\n",
    "sns.countplot(y=\"LIGHTCOND\", hue=\"severity\", data=df_b, ax=axs[1, 2])\n",
    "\n",
    "#plt.savefig('file.png', bbox_inches='tight')\n",
    "#sns.countplot(y=\"UNDERINFL\", hue=\"severity\", data=df_b, ax=axs[1, 2])"
   ]
  },
  {
   "cell_type": "code",
   "execution_count": 27,
   "metadata": {},
   "outputs": [],
   "source": [
    "df_b.to_csv('newdata.csv')"
   ]
  },
  {
   "cell_type": "code",
   "execution_count": null,
   "metadata": {},
   "outputs": [],
   "source": []
  }
 ],
 "metadata": {
  "kernelspec": {
   "display_name": "Python 3",
   "language": "python",
   "name": "python3"
  },
  "language_info": {
   "codemirror_mode": {
    "name": "ipython",
    "version": 3
   },
   "file_extension": ".py",
   "mimetype": "text/x-python",
   "name": "python",
   "nbconvert_exporter": "python",
   "pygments_lexer": "ipython3",
   "version": "3.7.3"
  }
 },
 "nbformat": 4,
 "nbformat_minor": 4
}
